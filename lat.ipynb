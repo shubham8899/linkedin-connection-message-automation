{
 "cells": [
  {
   "cell_type": "code",
   "execution_count": 116,
   "metadata": {},
   "outputs": [],
   "source": [
    "from selenium import webdriver\n",
    "from selenium.webdriver.common.keys import Keys\n",
    "import time\n",
    "from webdriver_manager.chrome import ChromeDriverManager\n",
    "import numpy as np\n",
    "import pandas as pd"
   ]
  },
  {
   "cell_type": "code",
   "execution_count": 117,
   "metadata": {},
   "outputs": [],
   "source": [
    "e_mail = 'shubham8899@icloud.com'\n",
    "password = 'Shubham5'\n",
    "message = 'Greetings from Moyyn! I noticed that you are currently seeking a new opportunity in Berlin! Your profile seems very promising. We have more than 250+ openings currently. Please have a look at moyyn.com/open-positions and submit your application.\\nQuarantined regards.'"
   ]
  },
  {
   "cell_type": "code",
   "execution_count": 118,
   "metadata": {},
   "outputs": [],
   "source": [
    "URLs = pd.read_csv('urls.csv')\n",
    "# Credentials = pd.read_csv('credentials.csv')\n",
    "# URLs.head()\n",
    "# Credentials.head()"
   ]
  },
  {
   "cell_type": "code",
   "execution_count": 119,
   "metadata": {},
   "outputs": [],
   "source": [
    "class Linkedin:\n",
    "    def __init__(self,username,password):\n",
    "        self.username=username\n",
    "        self.password=password\n",
    "        self.bot=webdriver.Chrome(ChromeDriverManager().install())\n",
    "\n",
    "    def login(self):\n",
    "        bot=self.bot\n",
    "        bot.get(\"https://www.linkedin.com/uas/login\")\n",
    "        time.sleep(1.5)\n",
    "        email=bot.find_element_by_id(\"username\")\n",
    "        email.send_keys(self.username)\n",
    "        password=bot.find_element_by_id(\"password\")\n",
    "        password.send_keys(self.password)\n",
    "        time.sleep(1.5)\n",
    "        password.send_keys(Keys.RETURN)\n",
    "\n",
    "    def send_request(self, URL):\n",
    "        bot = self.bot\n",
    "        time.sleep(1)\n",
    "        bot.get(URL)\n",
    "        time.sleep(1)\n",
    "\n",
    "        try:\n",
    "            connect_button = bot.find_element_by_xpath('/html/body/div[7]/div[3]/div/div/div/div/div[2]/main/div[1]/section/div[2]/div[1]/div[2]/div/div/span[1]/div/button')\n",
    "        except:\n",
    "            connect_button = bot.find_element_by_xpath('/html/body/div[8]/div[3]/div/div/div/div/div[2]/main/div[1]/section/div[2]/div[1]/div[2]/div/div/span[1]/div/button')        \n",
    "        # /html/body/div[8]/div[3]/div/div/div/div/div[2]/main/div[1]/section/div[2]/div[1]/div[2]/div/div/span[1]/div/button\n",
    "        # /html/body/div[7]/div[3]/div/div/div/div/div[2]/main/div[1]/section/div[2]/div[1]/div[2]/div/div/span[1]/div/button\n",
    "        # /html/body/div[8]/div[3]/div/div/div/div/div[2]/main/div[1]/section/div[2]/div[1]/div[2]/div/div/span[1]/div/button\n",
    "        connect_button.click()\n",
    "        \n",
    "        try:\n",
    "            direct_message_box = bot.find_element_by_xpath('/html/body/div[4]/div/div/div[2]/div[1]/textarea')\n",
    "            # /html/body/div[4]/div/div/div[2]/div[1]/textarea\n",
    "            direct_message_box.send_keys(message)\n",
    "            send_invitation_button = bot.find_element_by_xpath('/html/body/div[4]/div/div/div[3]/button[2]')\n",
    "            send_invitation_button.click()\n",
    "            return 1\n",
    "\n",
    "        except:\n",
    "            add_note_button = bot.find_element_by_xpath('/html/body/div[4]/div/div/div[3]/button[1]')\n",
    "            add_note_button.click()\n",
    "            message_box = bot.find_element_by_xpath('/html/body/div[4]/div/div/div[2]/div/textarea')\n",
    "            message_box.send_keys(message)\n",
    "            done_button = bot.find_element_by_xpath('/html/body/div[4]/div/div/div[3]/button[2]')\n",
    "            done_button.click()\n",
    "            return 1\n",
    "\n",
    "        # time.sleep(1)"
   ]
  },
  {
   "cell_type": "code",
   "execution_count": 76,
   "metadata": {},
   "outputs": [
    {
     "output_type": "stream",
     "name": "stdout",
     "text": "\nLooking for [chromedriver 81.0.4044.69 win32] driver in cache\nFile found in cache by path [C:\\Users\\Shubham\\.wdm\\drivers\\chromedriver\\81.0.4044.69\\win32\\chromedriver.exe]\n"
    }
   ],
   "source": [
    "count = URLs['urls'].count()\n",
    "load = Linkedin(e_mail, password)\n",
    "load.login()\n",
    "\n",
    "for i in range (0,count):\n",
    "    if(URLs['sent'][i] == 0):\n",
    "        try:\n",
    "            x = load.send_request(URLs['urls'][i])\n",
    "            if(x == 1):\n",
    "                URLs['sent'][i] = 1\n",
    "        except:\n",
    "            continue\n",
    "    else:\n",
    "        continue\n",
    "\n",
    "print(\"END OF LOOP\")"
   ]
  },
  {
   "cell_type": "code",
   "execution_count": 82,
   "metadata": {},
   "outputs": [],
   "source": [
    "URLs.to_csv(\"urls.csv\", index=False)"
   ]
  }
 ],
 "metadata": {
  "language_info": {
   "codemirror_mode": {
    "name": "ipython",
    "version": 3
   },
   "file_extension": ".py",
   "mimetype": "text/x-python",
   "name": "python",
   "nbconvert_exporter": "python",
   "pygments_lexer": "ipython3",
   "version": "3.8.2-final"
  },
  "orig_nbformat": 2,
  "kernelspec": {
   "name": "python38232bit5d8cae49deb44534ab06f27543994134",
   "display_name": "Python 3.8.2 32-bit"
  }
 },
 "nbformat": 4,
 "nbformat_minor": 2
}